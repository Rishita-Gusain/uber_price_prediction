{
 "cells": [
  {
   "cell_type": "code",
   "execution_count": 1,
   "metadata": {
    "id": "IRGD2Tv8cuiC"
   },
   "outputs": [],
   "source": [
    "import pandas as pd"
   ]
  },
  {
   "cell_type": "code",
   "execution_count": 2,
   "metadata": {
    "colab": {
     "base_uri": "https://localhost:8080/",
     "height": 364
    },
    "id": "Kp3wjKWtgsLa",
    "outputId": "209354fe-38ab-41f7-b371-0b97449c2ac9"
   },
   "outputs": [
    {
     "data": {
      "text/html": [
       "<div>\n",
       "<style scoped>\n",
       "    .dataframe tbody tr th:only-of-type {\n",
       "        vertical-align: middle;\n",
       "    }\n",
       "\n",
       "    .dataframe tbody tr th {\n",
       "        vertical-align: top;\n",
       "    }\n",
       "\n",
       "    .dataframe thead th {\n",
       "        text-align: right;\n",
       "    }\n",
       "</style>\n",
       "<table border=\"1\" class=\"dataframe\">\n",
       "  <thead>\n",
       "    <tr style=\"text-align: right;\">\n",
       "      <th></th>\n",
       "      <th>Unnamed: 0</th>\n",
       "      <th>fare_amount</th>\n",
       "      <th>pickup_longitude</th>\n",
       "      <th>pickup_latitude</th>\n",
       "      <th>dropoff_longitude</th>\n",
       "      <th>dropoff_latitude</th>\n",
       "      <th>passenger_count</th>\n",
       "      <th>distance</th>\n",
       "    </tr>\n",
       "  </thead>\n",
       "  <tbody>\n",
       "    <tr>\n",
       "      <th>count</th>\n",
       "      <td>2.000000e+05</td>\n",
       "      <td>200000.000000</td>\n",
       "      <td>200000.000000</td>\n",
       "      <td>200000.000000</td>\n",
       "      <td>199999.000000</td>\n",
       "      <td>199999.000000</td>\n",
       "      <td>200000.000000</td>\n",
       "      <td>200000.000000</td>\n",
       "    </tr>\n",
       "    <tr>\n",
       "      <th>mean</th>\n",
       "      <td>2.771250e+07</td>\n",
       "      <td>11.359955</td>\n",
       "      <td>-72.527638</td>\n",
       "      <td>39.935885</td>\n",
       "      <td>-72.525292</td>\n",
       "      <td>39.923890</td>\n",
       "      <td>1.684535</td>\n",
       "      <td>66.659021</td>\n",
       "    </tr>\n",
       "    <tr>\n",
       "      <th>std</th>\n",
       "      <td>1.601382e+07</td>\n",
       "      <td>9.901776</td>\n",
       "      <td>11.437787</td>\n",
       "      <td>7.720539</td>\n",
       "      <td>13.117408</td>\n",
       "      <td>6.794829</td>\n",
       "      <td>1.385997</td>\n",
       "      <td>86.047484</td>\n",
       "    </tr>\n",
       "    <tr>\n",
       "      <th>min</th>\n",
       "      <td>1.000000e+00</td>\n",
       "      <td>-52.000000</td>\n",
       "      <td>-1340.648410</td>\n",
       "      <td>-74.015515</td>\n",
       "      <td>-3356.666300</td>\n",
       "      <td>-881.985513</td>\n",
       "      <td>0.000000</td>\n",
       "      <td>0.000000</td>\n",
       "    </tr>\n",
       "    <tr>\n",
       "      <th>25%</th>\n",
       "      <td>1.382535e+07</td>\n",
       "      <td>6.000000</td>\n",
       "      <td>-73.992065</td>\n",
       "      <td>40.734796</td>\n",
       "      <td>-73.991407</td>\n",
       "      <td>40.733823</td>\n",
       "      <td>1.000000</td>\n",
       "      <td>24.440000</td>\n",
       "    </tr>\n",
       "    <tr>\n",
       "      <th>50%</th>\n",
       "      <td>2.774550e+07</td>\n",
       "      <td>8.500000</td>\n",
       "      <td>-73.981823</td>\n",
       "      <td>40.752592</td>\n",
       "      <td>-73.980093</td>\n",
       "      <td>40.753042</td>\n",
       "      <td>1.000000</td>\n",
       "      <td>42.300000</td>\n",
       "    </tr>\n",
       "    <tr>\n",
       "      <th>75%</th>\n",
       "      <td>4.155530e+07</td>\n",
       "      <td>12.500000</td>\n",
       "      <td>-73.967153</td>\n",
       "      <td>40.767158</td>\n",
       "      <td>-73.963659</td>\n",
       "      <td>40.768001</td>\n",
       "      <td>2.000000</td>\n",
       "      <td>75.340000</td>\n",
       "    </tr>\n",
       "    <tr>\n",
       "      <th>max</th>\n",
       "      <td>5.542357e+07</td>\n",
       "      <td>499.000000</td>\n",
       "      <td>57.418457</td>\n",
       "      <td>1644.421482</td>\n",
       "      <td>1153.572603</td>\n",
       "      <td>872.697628</td>\n",
       "      <td>208.000000</td>\n",
       "      <td>2266.840000</td>\n",
       "    </tr>\n",
       "  </tbody>\n",
       "</table>\n",
       "</div>"
      ],
      "text/plain": [
       "         Unnamed: 0    fare_amount  pickup_longitude  pickup_latitude  \\\n",
       "count  2.000000e+05  200000.000000     200000.000000    200000.000000   \n",
       "mean   2.771250e+07      11.359955        -72.527638        39.935885   \n",
       "std    1.601382e+07       9.901776         11.437787         7.720539   \n",
       "min    1.000000e+00     -52.000000      -1340.648410       -74.015515   \n",
       "25%    1.382535e+07       6.000000        -73.992065        40.734796   \n",
       "50%    2.774550e+07       8.500000        -73.981823        40.752592   \n",
       "75%    4.155530e+07      12.500000        -73.967153        40.767158   \n",
       "max    5.542357e+07     499.000000         57.418457      1644.421482   \n",
       "\n",
       "       dropoff_longitude  dropoff_latitude  passenger_count       distance  \n",
       "count      199999.000000     199999.000000    200000.000000  200000.000000  \n",
       "mean          -72.525292         39.923890         1.684535      66.659021  \n",
       "std            13.117408          6.794829         1.385997      86.047484  \n",
       "min         -3356.666300       -881.985513         0.000000       0.000000  \n",
       "25%           -73.991407         40.733823         1.000000      24.440000  \n",
       "50%           -73.980093         40.753042         1.000000      42.300000  \n",
       "75%           -73.963659         40.768001         2.000000      75.340000  \n",
       "max          1153.572603        872.697628       208.000000    2266.840000  "
      ]
     },
     "execution_count": 2,
     "metadata": {},
     "output_type": "execute_result"
    }
   ],
   "source": [
    "df = pd.read_csv(\"./CSV/uber_new_data1.csv\")\n",
    "df.describe()"
   ]
  },
  {
   "cell_type": "code",
   "execution_count": 3,
   "metadata": {
    "colab": {
     "base_uri": "https://localhost:8080/",
     "height": 288
    },
    "id": "tMmFdOUp4fML",
    "outputId": "17b0f088-0916-4d6b-b0c5-2422fa166fc0"
   },
   "outputs": [
    {
     "data": {
      "text/html": [
       "<div>\n",
       "<style scoped>\n",
       "    .dataframe tbody tr th:only-of-type {\n",
       "        vertical-align: middle;\n",
       "    }\n",
       "\n",
       "    .dataframe tbody tr th {\n",
       "        vertical-align: top;\n",
       "    }\n",
       "\n",
       "    .dataframe thead th {\n",
       "        text-align: right;\n",
       "    }\n",
       "</style>\n",
       "<table border=\"1\" class=\"dataframe\">\n",
       "  <thead>\n",
       "    <tr style=\"text-align: right;\">\n",
       "      <th></th>\n",
       "      <th>Unnamed: 0</th>\n",
       "      <th>key</th>\n",
       "      <th>fare_amount</th>\n",
       "      <th>pickup_date</th>\n",
       "      <th>pickup_time</th>\n",
       "      <th>pickup_longitude</th>\n",
       "      <th>pickup_latitude</th>\n",
       "      <th>dropoff_longitude</th>\n",
       "      <th>dropoff_latitude</th>\n",
       "      <th>passenger_count</th>\n",
       "      <th>distance</th>\n",
       "    </tr>\n",
       "  </thead>\n",
       "  <tbody>\n",
       "    <tr>\n",
       "      <th>0</th>\n",
       "      <td>52238368</td>\n",
       "      <td>26:00.0</td>\n",
       "      <td>9.3</td>\n",
       "      <td>1/1/2009</td>\n",
       "      <td>11:52</td>\n",
       "      <td>-73.945648</td>\n",
       "      <td>40.801802</td>\n",
       "      <td>-73.970920</td>\n",
       "      <td>40.762820</td>\n",
       "      <td>1</td>\n",
       "      <td>91.90</td>\n",
       "    </tr>\n",
       "    <tr>\n",
       "      <th>1</th>\n",
       "      <td>25687629</td>\n",
       "      <td>18:00.0</td>\n",
       "      <td>3.7</td>\n",
       "      <td>1/1/2009</td>\n",
       "      <td>12:52</td>\n",
       "      <td>-74.008845</td>\n",
       "      <td>40.708023</td>\n",
       "      <td>-74.010642</td>\n",
       "      <td>40.711428</td>\n",
       "      <td>1</td>\n",
       "      <td>7.61</td>\n",
       "    </tr>\n",
       "    <tr>\n",
       "      <th>2</th>\n",
       "      <td>8688426</td>\n",
       "      <td>05:03.0</td>\n",
       "      <td>10.6</td>\n",
       "      <td>1/1/2009</td>\n",
       "      <td>15:52</td>\n",
       "      <td>-73.956635</td>\n",
       "      <td>40.771254</td>\n",
       "      <td>-73.991528</td>\n",
       "      <td>40.749778</td>\n",
       "      <td>2</td>\n",
       "      <td>80.90</td>\n",
       "    </tr>\n",
       "    <tr>\n",
       "      <th>3</th>\n",
       "      <td>11751645</td>\n",
       "      <td>02:00.0</td>\n",
       "      <td>5.7</td>\n",
       "      <td>1/1/2009</td>\n",
       "      <td>12:52</td>\n",
       "      <td>-74.005077</td>\n",
       "      <td>40.720650</td>\n",
       "      <td>-73.986923</td>\n",
       "      <td>40.715958</td>\n",
       "      <td>2</td>\n",
       "      <td>36.85</td>\n",
       "    </tr>\n",
       "    <tr>\n",
       "      <th>4</th>\n",
       "      <td>3587367</td>\n",
       "      <td>25:00.0</td>\n",
       "      <td>17.3</td>\n",
       "      <td>1/1/2009</td>\n",
       "      <td>20:52</td>\n",
       "      <td>-73.978850</td>\n",
       "      <td>40.761850</td>\n",
       "      <td>-74.007757</td>\n",
       "      <td>40.705293</td>\n",
       "      <td>1</td>\n",
       "      <td>125.54</td>\n",
       "    </tr>\n",
       "  </tbody>\n",
       "</table>\n",
       "</div>"
      ],
      "text/plain": [
       "   Unnamed: 0      key  fare_amount pickup_date pickup_time  pickup_longitude  \\\n",
       "0    52238368  26:00.0          9.3    1/1/2009       11:52        -73.945648   \n",
       "1    25687629  18:00.0          3.7    1/1/2009       12:52        -74.008845   \n",
       "2     8688426  05:03.0         10.6    1/1/2009       15:52        -73.956635   \n",
       "3    11751645  02:00.0          5.7    1/1/2009       12:52        -74.005077   \n",
       "4     3587367  25:00.0         17.3    1/1/2009       20:52        -73.978850   \n",
       "\n",
       "   pickup_latitude  dropoff_longitude  dropoff_latitude  passenger_count  \\\n",
       "0        40.801802         -73.970920         40.762820                1   \n",
       "1        40.708023         -74.010642         40.711428                1   \n",
       "2        40.771254         -73.991528         40.749778                2   \n",
       "3        40.720650         -73.986923         40.715958                2   \n",
       "4        40.761850         -74.007757         40.705293                1   \n",
       "\n",
       "   distance  \n",
       "0     91.90  \n",
       "1      7.61  \n",
       "2     80.90  \n",
       "3     36.85  \n",
       "4    125.54  "
      ]
     },
     "execution_count": 3,
     "metadata": {},
     "output_type": "execute_result"
    }
   ],
   "source": [
    "df.head()"
   ]
  },
  {
   "cell_type": "code",
   "execution_count": 4,
   "metadata": {
    "colab": {
     "base_uri": "https://localhost:8080/"
    },
    "id": "K4lEYzQn4e9F",
    "outputId": "30105278-ed33-46b2-cd01-4408a266c15c"
   },
   "outputs": [
    {
     "data": {
      "text/plain": [
       "2200000"
      ]
     },
     "execution_count": 4,
     "metadata": {},
     "output_type": "execute_result"
    }
   ],
   "source": [
    "df.size"
   ]
  },
  {
   "cell_type": "code",
   "execution_count": 5,
   "metadata": {
    "id": "KImu6B2O4fE8"
   },
   "outputs": [],
   "source": [
    "main_data = df.drop(['Unnamed: 0', 'key','pickup_longitude','pickup_latitude','dropoff_longitude','dropoff_latitude'], axis=1)"
   ]
  },
  {
   "cell_type": "code",
   "execution_count": 6,
   "metadata": {
    "id": "kaUgKjuL4e6X"
   },
   "outputs": [],
   "source": [
    "main_data = main_data.drop(main_data[(main_data['distance'] == 0) | (main_data['passenger_count'] == 0) | (main_data['fare_amount'] == 0)].index)"
   ]
  },
  {
   "cell_type": "code",
   "execution_count": 7,
   "metadata": {
    "colab": {
     "base_uri": "https://localhost:8080/",
     "height": 206
    },
    "id": "lXH-sTucgr8n",
    "outputId": "04c474b9-1944-4e76-f649-9e2afc445296"
   },
   "outputs": [
    {
     "data": {
      "text/html": [
       "<div>\n",
       "<style scoped>\n",
       "    .dataframe tbody tr th:only-of-type {\n",
       "        vertical-align: middle;\n",
       "    }\n",
       "\n",
       "    .dataframe tbody tr th {\n",
       "        vertical-align: top;\n",
       "    }\n",
       "\n",
       "    .dataframe thead th {\n",
       "        text-align: right;\n",
       "    }\n",
       "</style>\n",
       "<table border=\"1\" class=\"dataframe\">\n",
       "  <thead>\n",
       "    <tr style=\"text-align: right;\">\n",
       "      <th></th>\n",
       "      <th>fare_amount</th>\n",
       "      <th>pickup_date</th>\n",
       "      <th>pickup_time</th>\n",
       "      <th>passenger_count</th>\n",
       "      <th>distance</th>\n",
       "    </tr>\n",
       "  </thead>\n",
       "  <tbody>\n",
       "    <tr>\n",
       "      <th>0</th>\n",
       "      <td>9.3</td>\n",
       "      <td>1/1/2009</td>\n",
       "      <td>11:52</td>\n",
       "      <td>1</td>\n",
       "      <td>91.90</td>\n",
       "    </tr>\n",
       "    <tr>\n",
       "      <th>1</th>\n",
       "      <td>3.7</td>\n",
       "      <td>1/1/2009</td>\n",
       "      <td>12:52</td>\n",
       "      <td>1</td>\n",
       "      <td>7.61</td>\n",
       "    </tr>\n",
       "    <tr>\n",
       "      <th>2</th>\n",
       "      <td>10.6</td>\n",
       "      <td>1/1/2009</td>\n",
       "      <td>15:52</td>\n",
       "      <td>2</td>\n",
       "      <td>80.90</td>\n",
       "    </tr>\n",
       "    <tr>\n",
       "      <th>3</th>\n",
       "      <td>5.7</td>\n",
       "      <td>1/1/2009</td>\n",
       "      <td>12:52</td>\n",
       "      <td>2</td>\n",
       "      <td>36.85</td>\n",
       "    </tr>\n",
       "    <tr>\n",
       "      <th>4</th>\n",
       "      <td>17.3</td>\n",
       "      <td>1/1/2009</td>\n",
       "      <td>20:52</td>\n",
       "      <td>1</td>\n",
       "      <td>125.54</td>\n",
       "    </tr>\n",
       "  </tbody>\n",
       "</table>\n",
       "</div>"
      ],
      "text/plain": [
       "   fare_amount pickup_date pickup_time  passenger_count  distance\n",
       "0          9.3    1/1/2009       11:52                1     91.90\n",
       "1          3.7    1/1/2009       12:52                1      7.61\n",
       "2         10.6    1/1/2009       15:52                2     80.90\n",
       "3          5.7    1/1/2009       12:52                2     36.85\n",
       "4         17.3    1/1/2009       20:52                1    125.54"
      ]
     },
     "execution_count": 7,
     "metadata": {},
     "output_type": "execute_result"
    }
   ],
   "source": [
    "main_data.head()"
   ]
  },
  {
   "cell_type": "code",
   "execution_count": 8,
   "metadata": {
    "id": "qVLbZWje5NDg"
   },
   "outputs": [],
   "source": [
    "main_data.isnull()\n",
    "main_data = main_data.dropna(axis=0)"
   ]
  },
  {
   "cell_type": "code",
   "execution_count": 9,
   "metadata": {
    "id": "9SFaqkWiwSEt"
   },
   "outputs": [],
   "source": [
    "map_data = main_data.drop(['fare_amount','pickup_date','pickup_time'], axis=1)"
   ]
  },
  {
   "cell_type": "code",
   "execution_count": 10,
   "metadata": {
    "colab": {
     "base_uri": "https://localhost:8080/",
     "height": 75
    },
    "id": "1TG59YGnv63U",
    "outputId": "880468d0-8fe5-4a73-8dd9-0399a5c4d87b"
   },
   "outputs": [
    {
     "data": {
      "text/plain": [
       "LinearRegression()"
      ]
     },
     "execution_count": 10,
     "metadata": {},
     "output_type": "execute_result"
    }
   ],
   "source": [
    "from sklearn import linear_model\n",
    "model = linear_model.LinearRegression()\n",
    "model.fit(map_data, main_data.fare_amount )"
   ]
  },
  {
   "cell_type": "code",
   "execution_count": 11,
   "metadata": {
    "id": "eE5lTctJv60S"
   },
   "outputs": [],
   "source": [
    "from sklearn.model_selection import train_test_split\n",
    "x_train, x_test, y_train, y_test = train_test_split(map_data,main_data.fare_amount, test_size=0.25)"
   ]
  },
  {
   "cell_type": "code",
   "execution_count": 12,
   "metadata": {
    "colab": {
     "base_uri": "https://localhost:8080/",
     "height": 75
    },
    "id": "MxVXZK5av6er",
    "outputId": "8e86d01e-49d1-4304-8f08-eaf4865de6bf"
   },
   "outputs": [
    {
     "data": {
      "text/plain": [
       "LinearRegression()"
      ]
     },
     "execution_count": 12,
     "metadata": {},
     "output_type": "execute_result"
    }
   ],
   "source": [
    "model.fit(x_train, y_train)"
   ]
  },
  {
   "cell_type": "code",
   "execution_count": 13,
   "metadata": {
    "id": "MwAQOxgxv6ay"
   },
   "outputs": [],
   "source": [
    "price_predict = model.predict(x_test)"
   ]
  },
  {
   "cell_type": "code",
   "execution_count": 14,
   "metadata": {
    "colab": {
     "base_uri": "https://localhost:8080/"
    },
    "id": "fSaVai7n7JLs",
    "outputId": "37d6801c-ab63-4f89-fd91-de2fa5d185bc"
   },
   "outputs": [
    {
     "name": "stdout",
     "output_type": "stream",
     "text": [
      "2.718767119462923\n",
      "43.268615842564\n",
      "6.577888403018403\n",
      "Training set score: 0.61\n",
      "Test set score: 0.5351240\n"
     ]
    }
   ],
   "source": [
    "import numpy as np\n",
    "from sklearn.metrics import mean_absolute_error, mean_squared_error\n",
    "mae = mean_absolute_error(y_test,price_predict)\n",
    "mse = mean_squared_error(y_test, price_predict)\n",
    "rmse = np.sqrt(mse)\n",
    "print(mae)\n",
    "print(mse)\n",
    "print(rmse)\n",
    "linear_regression = model.score(x_test, y_test)\n",
    "print(\"Training set score: {:.2f}\".format(model.score(x_train, y_train)))\n",
    "print(\"Test set score: {:.7f}\".format(linear_regression))"
   ]
  },
  {
   "cell_type": "code",
   "execution_count": 15,
   "metadata": {
    "colab": {
     "base_uri": "https://localhost:8080/",
     "height": 447
    },
    "id": "eTsK2Immv6Yu",
    "outputId": "87e46b6a-5939-4767-ca2c-55c14592d827"
   },
   "outputs": [
    {
     "data": {
      "text/plain": [
       "<matplotlib.collections.PathCollection at 0x1cc2c3c9970>"
      ]
     },
     "execution_count": 15,
     "metadata": {},
     "output_type": "execute_result"
    },
    {
     "data": {
      "image/png": "[encoded data removed]",
      "text/plain": [
       "<Figure size 432x288 with 1 Axes>"
      ]
     },
     "metadata": {
      "needs_background": "light"
     },
     "output_type": "display_data"
    }
   ],
   "source": [
    "import matplotlib.pyplot as plt\n",
    "plt.scatter( y_test, price_predict)"
   ]
  },
  {
   "cell_type": "code",
   "execution_count": 16,
   "metadata": {
    "colab": {
     "base_uri": "https://localhost:8080/",
     "height": 75
    },
    "id": "2nOFhk6Fl4pU",
    "outputId": "6d13bd6a-cea2-498e-a9a3-450d43e19242"
   },
   "outputs": [
    {
     "data": {
      "text/plain": [
       "DecisionTreeRegressor()"
      ]
     },
     "execution_count": 16,
     "metadata": {},
     "output_type": "execute_result"
    }
   ],
   "source": [
    "from sklearn.tree import DecisionTreeRegressor\n",
    "\n",
    "model2 = DecisionTreeRegressor()\n",
    "model2.fit(x_train, y_train)"
   ]
  },
  {
   "cell_type": "code",
   "execution_count": 17,
   "metadata": {
    "id": "eEoD1Pqal4z7"
   },
   "outputs": [],
   "source": [
    "y_pred = model2.predict(x_test)"
   ]
  },
  {
   "cell_type": "code",
   "execution_count": 18,
   "metadata": {
    "colab": {
     "base_uri": "https://localhost:8080/"
    },
    "id": "4IxMHC1Wl436",
    "outputId": "780b6a5c-e2d1-4271-c406-2e4607456ca2"
   },
   "outputs": [
    {
     "name": "stdout",
     "output_type": "stream",
     "text": [
      "Training set score: 0.89\n",
      "Test set score: 0.6338824\n"
     ]
    }
   ],
   "source": [
    "print(\"Training set score: {:.2f}\".format(model2.score(x_train, y_train)))\n",
    "print(\"Test set score: {:.7f}\".format(model2.score(x_test, y_test)))"
   ]
  },
  {
   "cell_type": "code",
   "execution_count": 19,
   "metadata": {
    "colab": {
     "base_uri": "https://localhost:8080/"
    },
    "id": "wvfER_BPl48b",
    "outputId": "b7693df2-df1d-4c0a-cc42-fe67374ce1ff"
   },
   "outputs": [
    {
     "name": "stdout",
     "output_type": "stream",
     "text": [
      "2.844156886426671\n",
      "34.07661184784715\n",
      "5.837517610067412\n"
     ]
    }
   ],
   "source": [
    "mae=mean_absolute_error(y_test,y_pred)\n",
    "mse=mean_squared_error(y_test,y_pred)\n",
    "rmse=np.sqrt(mse)\n",
    "print(mae)\n",
    "print(mse)\n",
    "print(rmse)"
   ]
  },
  {
   "cell_type": "code",
   "execution_count": 20,
   "metadata": {
    "colab": {
     "base_uri": "https://localhost:8080/"
    },
    "id": "6wxSMVn6l5Ah",
    "outputId": "d50e7056-55cf-4318-a690-f450fe1367ae"
   },
   "outputs": [
    {
     "data": {
      "text/plain": [
       "0.6338824306869173"
      ]
     },
     "execution_count": 20,
     "metadata": {},
     "output_type": "execute_result"
    }
   ],
   "source": [
    "decision_tree = model2.score(x_test,y_test)\n",
    "decision_tree"
   ]
  },
  {
   "cell_type": "code",
   "execution_count": 21,
   "metadata": {
    "colab": {
     "base_uri": "https://localhost:8080/",
     "height": 75
    },
    "id": "on4R8zj7jct0",
    "outputId": "926560a9-f47d-42fb-9bf4-db7f37852cab"
   },
   "outputs": [
    {
     "data": {
      "text/plain": [
       "RandomForestRegressor()"
      ]
     },
     "execution_count": 21,
     "metadata": {},
     "output_type": "execute_result"
    }
   ],
   "source": [
    "from sklearn.ensemble import RandomForestRegressor\n",
    "\n",
    "model3 = RandomForestRegressor()\n",
    "model3.fit(x_train, y_train)"
   ]
  },
  {
   "cell_type": "code",
   "execution_count": 22,
   "metadata": {
    "colab": {
     "base_uri": "https://localhost:8080/",
     "height": 75
    },
    "id": "ChDz_DEJjc7Z",
    "outputId": "acdfd24f-2d83-4170-dd22-7b92044f98c0"
   },
   "outputs": [
    {
     "data": {
      "text/plain": [
       "RandomForestRegressor()"
      ]
     },
     "execution_count": 22,
     "metadata": {},
     "output_type": "execute_result"
    }
   ],
   "source": [
    "RandomForestRegressor()"
   ]
  },
  {
   "cell_type": "code",
   "execution_count": 23,
   "metadata": {
    "id": "i4GrXaD8jc-z"
   },
   "outputs": [],
   "source": [
    "y_predi = model3.predict(x_test)"
   ]
  },
  {
   "cell_type": "code",
   "execution_count": 24,
   "metadata": {
    "colab": {
     "base_uri": "https://localhost:8080/"
    },
    "id": "9YAVuVePjdCc",
    "outputId": "34ac6118-1274-40a3-a7fb-90e66f00973d"
   },
   "outputs": [
    {
     "name": "stdout",
     "output_type": "stream",
     "text": [
      "Training set score: 0.87\n",
      "Test set score: 0.7162231\n"
     ]
    }
   ],
   "source": [
    "print(\"Training set score: {:.2f}\".format(model3.score(x_train, y_train)))\n",
    "print(\"Test set score: {:.7f}\".format(model3.score(x_test, y_test)))"
   ]
  },
  {
   "cell_type": "code",
   "execution_count": 25,
   "metadata": {
    "colab": {
     "base_uri": "https://localhost:8080/"
    },
    "id": "0kz5s1bhjdFj",
    "outputId": "0c5ef464-0af7-4d7d-edfd-1b4d2db0a385"
   },
   "outputs": [
    {
     "name": "stdout",
     "output_type": "stream",
     "text": [
      "2.6033727989510993\n",
      "26.412707374040192\n",
      "5.139329467356631\n"
     ]
    }
   ],
   "source": [
    "mae=mean_absolute_error(y_test,y_predi)\n",
    "mse=mean_squared_error(y_test,y_predi)\n",
    "rmse=np.sqrt(mse)\n",
    "print(mae)\n",
    "print(mse)\n",
    "print(rmse)"
   ]
  },
  {
   "cell_type": "code",
   "execution_count": 26,
   "metadata": {
    "colab": {
     "base_uri": "https://localhost:8080/"
    },
    "id": "ugGs5m7njdJV",
    "outputId": "af253ee6-7395-4e17-f485-e98d002721d9"
   },
   "outputs": [
    {
     "data": {
      "text/plain": [
       "0.7162230721194114"
      ]
     },
     "execution_count": 26,
     "metadata": {},
     "output_type": "execute_result"
    }
   ],
   "source": [
    "random_forest = model3.score(x_test,y_test)\n",
    "random_forest"
   ]
  },
  {
   "cell_type": "code",
   "execution_count": 27,
   "metadata": {
    "colab": {
     "base_uri": "https://localhost:8080/"
    },
    "id": "8Id7YR710ZZc",
    "outputId": "eb3eaf68-4576-48a1-ebca-f53736e8ab20"
   },
   "outputs": [
    {
     "name": "stdout",
     "output_type": "stream",
     "text": [
      "Linear Regression= 0.5351239574358715\n",
      "Decision_tree= 0.6338824306869173\n",
      "Random forest= 0.7162230721194114\n"
     ]
    }
   ],
   "source": [
    "print(\"Linear Regression=\",linear_regression)\n",
    "print(\"Decision_tree=\",decision_tree)\n",
    "print(\"Random forest=\",random_forest)"
   ]
  },
  {
   "cell_type": "code",
   "execution_count": 28,
   "metadata": {},
   "outputs": [],
   "source": [
    "import pickle\n",
    "fp=open(\"model.obj\",\"wb\")\n",
    "pickle.dump(model,fp)\n",
    "fp.close()"
   ]
  },
  {
   "cell_type": "code",
   "execution_count": null,
   "metadata": {},
   "outputs": [],
   "source": []
  }
 ],
 "metadata": {
  "colab": {
   "provenance": [],
   "toc_visible": true
  },
  "kernelspec": {
   "display_name": "Python 3 (ipykernel)",
   "language": "python",
   "name": "python3"
  },
  "language_info": {
   "codemirror_mode": {
    "name": "ipython",
    "version": 3
   },
   "file_extension": ".py",
   "mimetype": "text/x-python",
   "name": "python",
   "nbconvert_exporter": "python",
   "pygments_lexer": "ipython3",
   "version": "3.9.7"
  }
 },
 "nbformat": 4,
 "nbformat_minor": 1
}
